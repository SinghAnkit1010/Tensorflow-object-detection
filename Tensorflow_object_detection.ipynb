{
  "nbformat": 4,
  "nbformat_minor": 0,
  "metadata": {
    "colab": {
      "provenance": [],
      "gpuType": "T4",
      "mount_file_id": "1afY-RSOgGhhPLDDFrYa3hBJUDWtPbyQj",
      "authorship_tag": "ABX9TyOG+eD4KyyOUlCR9+cbsut4",
      "include_colab_link": true
    },
    "kernelspec": {
      "name": "python3",
      "display_name": "Python 3"
    },
    "language_info": {
      "name": "python"
    },
    "accelerator": "GPU",
    "gpuClass": "standard"
  },
  "cells": [
    {
      "cell_type": "markdown",
      "metadata": {
        "id": "view-in-github",
        "colab_type": "text"
      },
      "source": [
        "<a href=\"https://colab.research.google.com/github/SinghAnkit1010/Tensorflow-object-detection/blob/main/Tensorflow_object_detection.ipynb\" target=\"_parent\"><img src=\"https://colab.research.google.com/assets/colab-badge.svg\" alt=\"Open In Colab\"/></a>"
      ]
    },
    {
      "cell_type": "markdown",
      "source": [],
      "metadata": {
        "id": "a0vR4JH4bPMU"
      }
    },
    {
      "cell_type": "code",
      "execution_count": null,
      "metadata": {
        "id": "O8GdZVSXA_EI"
      },
      "outputs": [],
      "source": [
        "!git clone --depth 1 https://github.com/tensorflow/models"
      ]
    },
    {
      "cell_type": "code",
      "source": [
        "%%bash\n",
        "cd models/research/\n",
        "protoc object_detection/protos/*.proto --python_out=.\n",
        "cp object_detection/packages/tf2/setup.py .\n",
        "python -m pip install ."
      ],
      "metadata": {
        "id": "McAaIEhpDZS-"
      },
      "execution_count": null,
      "outputs": []
    },
    {
      "cell_type": "code",
      "source": [
        "import numpy as np\n",
        "from tensorflow.keras.utils import to_categorical\n",
        "import tensorflow as tf\n",
        "from skimage import io\n",
        "import os\n",
        "from sklearn.preprocessing import LabelEncoder\n",
        "import pandas as pd\n",
        "from object_detection.utils import label_map_util\n",
        "from object_detection.utils import config_util\n",
        "from object_detection.utils import visualization_utils as viz_utils\n",
        "from object_detection.utils import colab_utils\n",
        "from object_detection.builders import model_builder"
      ],
      "metadata": {
        "id": "cuEFnqRpDhpU",
        "colab": {
          "base_uri": "https://localhost:8080/"
        },
        "outputId": "f4b2208d-272a-4aae-9928-759858746498"
      },
      "execution_count": 1,
      "outputs": [
        {
          "output_type": "stream",
          "name": "stderr",
          "text": [
            "/usr/local/lib/python3.10/dist-packages/tensorflow_addons/utils/tfa_eol_msg.py:23: UserWarning: \n",
            "\n",
            "TensorFlow Addons (TFA) has ended development and introduction of new features.\n",
            "TFA has entered a minimal maintenance and release mode until a planned end of life in May 2024.\n",
            "Please modify downstream libraries to take dependencies from other repositories in our TensorFlow community (e.g. Keras, Keras-CV, and Keras-NLP). \n",
            "\n",
            "For more information see: https://github.com/tensorflow/addons/issues/2807 \n",
            "\n",
            "  warnings.warn(\n"
          ]
        }
      ]
    },
    {
      "cell_type": "code",
      "source": [
        "df = pd.read_csv(\"/content/drive/MyDrive/_object/_annotations.csv\",header = None)"
      ],
      "metadata": {
        "id": "rtNauDFqFxNt"
      },
      "execution_count": 2,
      "outputs": []
    },
    {
      "cell_type": "code",
      "source": [
        "img = []\n",
        "path = \"/content/drive/MyDrive/_object/\"\n",
        "for filename in df[0]:\n",
        "    image = io.imread(os.path.join(path + filename))\n",
        "    img.append(image)\n",
        "image = np.array(img)"
      ],
      "metadata": {
        "id": "Yzj5_fepH_kU"
      },
      "execution_count": 3,
      "outputs": []
    },
    {
      "cell_type": "code",
      "source": [
        "df"
      ],
      "metadata": {
        "colab": {
          "base_uri": "https://localhost:8080/",
          "height": 331
        },
        "id": "msHJ4kRgMTl5",
        "outputId": "ba88652b-f2e9-4ff5-cba9-462fe23111a2"
      },
      "execution_count": 4,
      "outputs": [
        {
          "output_type": "execute_result",
          "data": {
            "text/plain": [
              "                                                   0    1    2    3    4    5\n",
              "0  dogs_002_jpg.rf.13f6245a0dd7746724303b8a912507...   94  113  263  390  dog\n",
              "1  cats_005_jpg.rf.f8d4beb06cf3b6441b93e5c8d963ed...  110   11  543  571  cat\n",
              "2  cats_003_jpg.rf.ce523402358a0f4ad04adc6851117a...  106    0  551  575  cat\n",
              "3  dogs_001_jpg.rf.61e7a0fe5a07b1fa4cf3b6ab1b7843...   23   55  579  545  dog\n",
              "4  cats_001_jpg.rf.20383aa725e81abeecf414e9ff72f7...  186    3  471  636  cat\n",
              "5  cats_002_jpg.rf.0679ebb677b8b3f0096aa9f1db62eb...  235   57  640  598  cat\n",
              "6  dogs_005_jpg.rf.d9b3bdbeb1c03c884017d2c1538bd2...   10    3  580  630  dog\n",
              "7  dogs_003_jpg.rf.0d7ec91f8cbd37515c23113d9f6eda...   83   29  414  482  dog\n",
              "8  cats_004_jpg.rf.0741a0cd24a391ee31b83c8287fe9a...  151    3  536  478  cat"
            ],
            "text/html": [
              "\n",
              "  <div id=\"df-fe3d0e90-2050-4e8f-af40-d03df2542bdd\">\n",
              "    <div class=\"colab-df-container\">\n",
              "      <div>\n",
              "<style scoped>\n",
              "    .dataframe tbody tr th:only-of-type {\n",
              "        vertical-align: middle;\n",
              "    }\n",
              "\n",
              "    .dataframe tbody tr th {\n",
              "        vertical-align: top;\n",
              "    }\n",
              "\n",
              "    .dataframe thead th {\n",
              "        text-align: right;\n",
              "    }\n",
              "</style>\n",
              "<table border=\"1\" class=\"dataframe\">\n",
              "  <thead>\n",
              "    <tr style=\"text-align: right;\">\n",
              "      <th></th>\n",
              "      <th>0</th>\n",
              "      <th>1</th>\n",
              "      <th>2</th>\n",
              "      <th>3</th>\n",
              "      <th>4</th>\n",
              "      <th>5</th>\n",
              "    </tr>\n",
              "  </thead>\n",
              "  <tbody>\n",
              "    <tr>\n",
              "      <th>0</th>\n",
              "      <td>dogs_002_jpg.rf.13f6245a0dd7746724303b8a912507...</td>\n",
              "      <td>94</td>\n",
              "      <td>113</td>\n",
              "      <td>263</td>\n",
              "      <td>390</td>\n",
              "      <td>dog</td>\n",
              "    </tr>\n",
              "    <tr>\n",
              "      <th>1</th>\n",
              "      <td>cats_005_jpg.rf.f8d4beb06cf3b6441b93e5c8d963ed...</td>\n",
              "      <td>110</td>\n",
              "      <td>11</td>\n",
              "      <td>543</td>\n",
              "      <td>571</td>\n",
              "      <td>cat</td>\n",
              "    </tr>\n",
              "    <tr>\n",
              "      <th>2</th>\n",
              "      <td>cats_003_jpg.rf.ce523402358a0f4ad04adc6851117a...</td>\n",
              "      <td>106</td>\n",
              "      <td>0</td>\n",
              "      <td>551</td>\n",
              "      <td>575</td>\n",
              "      <td>cat</td>\n",
              "    </tr>\n",
              "    <tr>\n",
              "      <th>3</th>\n",
              "      <td>dogs_001_jpg.rf.61e7a0fe5a07b1fa4cf3b6ab1b7843...</td>\n",
              "      <td>23</td>\n",
              "      <td>55</td>\n",
              "      <td>579</td>\n",
              "      <td>545</td>\n",
              "      <td>dog</td>\n",
              "    </tr>\n",
              "    <tr>\n",
              "      <th>4</th>\n",
              "      <td>cats_001_jpg.rf.20383aa725e81abeecf414e9ff72f7...</td>\n",
              "      <td>186</td>\n",
              "      <td>3</td>\n",
              "      <td>471</td>\n",
              "      <td>636</td>\n",
              "      <td>cat</td>\n",
              "    </tr>\n",
              "    <tr>\n",
              "      <th>5</th>\n",
              "      <td>cats_002_jpg.rf.0679ebb677b8b3f0096aa9f1db62eb...</td>\n",
              "      <td>235</td>\n",
              "      <td>57</td>\n",
              "      <td>640</td>\n",
              "      <td>598</td>\n",
              "      <td>cat</td>\n",
              "    </tr>\n",
              "    <tr>\n",
              "      <th>6</th>\n",
              "      <td>dogs_005_jpg.rf.d9b3bdbeb1c03c884017d2c1538bd2...</td>\n",
              "      <td>10</td>\n",
              "      <td>3</td>\n",
              "      <td>580</td>\n",
              "      <td>630</td>\n",
              "      <td>dog</td>\n",
              "    </tr>\n",
              "    <tr>\n",
              "      <th>7</th>\n",
              "      <td>dogs_003_jpg.rf.0d7ec91f8cbd37515c23113d9f6eda...</td>\n",
              "      <td>83</td>\n",
              "      <td>29</td>\n",
              "      <td>414</td>\n",
              "      <td>482</td>\n",
              "      <td>dog</td>\n",
              "    </tr>\n",
              "    <tr>\n",
              "      <th>8</th>\n",
              "      <td>cats_004_jpg.rf.0741a0cd24a391ee31b83c8287fe9a...</td>\n",
              "      <td>151</td>\n",
              "      <td>3</td>\n",
              "      <td>536</td>\n",
              "      <td>478</td>\n",
              "      <td>cat</td>\n",
              "    </tr>\n",
              "  </tbody>\n",
              "</table>\n",
              "</div>\n",
              "      <button class=\"colab-df-convert\" onclick=\"convertToInteractive('df-fe3d0e90-2050-4e8f-af40-d03df2542bdd')\"\n",
              "              title=\"Convert this dataframe to an interactive table.\"\n",
              "              style=\"display:none;\">\n",
              "        \n",
              "  <svg xmlns=\"http://www.w3.org/2000/svg\" height=\"24px\"viewBox=\"0 0 24 24\"\n",
              "       width=\"24px\">\n",
              "    <path d=\"M0 0h24v24H0V0z\" fill=\"none\"/>\n",
              "    <path d=\"M18.56 5.44l.94 2.06.94-2.06 2.06-.94-2.06-.94-.94-2.06-.94 2.06-2.06.94zm-11 1L8.5 8.5l.94-2.06 2.06-.94-2.06-.94L8.5 2.5l-.94 2.06-2.06.94zm10 10l.94 2.06.94-2.06 2.06-.94-2.06-.94-.94-2.06-.94 2.06-2.06.94z\"/><path d=\"M17.41 7.96l-1.37-1.37c-.4-.4-.92-.59-1.43-.59-.52 0-1.04.2-1.43.59L10.3 9.45l-7.72 7.72c-.78.78-.78 2.05 0 2.83L4 21.41c.39.39.9.59 1.41.59.51 0 1.02-.2 1.41-.59l7.78-7.78 2.81-2.81c.8-.78.8-2.07 0-2.86zM5.41 20L4 18.59l7.72-7.72 1.47 1.35L5.41 20z\"/>\n",
              "  </svg>\n",
              "      </button>\n",
              "      \n",
              "  <style>\n",
              "    .colab-df-container {\n",
              "      display:flex;\n",
              "      flex-wrap:wrap;\n",
              "      gap: 12px;\n",
              "    }\n",
              "\n",
              "    .colab-df-convert {\n",
              "      background-color: #E8F0FE;\n",
              "      border: none;\n",
              "      border-radius: 50%;\n",
              "      cursor: pointer;\n",
              "      display: none;\n",
              "      fill: #1967D2;\n",
              "      height: 32px;\n",
              "      padding: 0 0 0 0;\n",
              "      width: 32px;\n",
              "    }\n",
              "\n",
              "    .colab-df-convert:hover {\n",
              "      background-color: #E2EBFA;\n",
              "      box-shadow: 0px 1px 2px rgba(60, 64, 67, 0.3), 0px 1px 3px 1px rgba(60, 64, 67, 0.15);\n",
              "      fill: #174EA6;\n",
              "    }\n",
              "\n",
              "    [theme=dark] .colab-df-convert {\n",
              "      background-color: #3B4455;\n",
              "      fill: #D2E3FC;\n",
              "    }\n",
              "\n",
              "    [theme=dark] .colab-df-convert:hover {\n",
              "      background-color: #434B5C;\n",
              "      box-shadow: 0px 1px 3px 1px rgba(0, 0, 0, 0.15);\n",
              "      filter: drop-shadow(0px 1px 2px rgba(0, 0, 0, 0.3));\n",
              "      fill: #FFFFFF;\n",
              "    }\n",
              "  </style>\n",
              "\n",
              "      <script>\n",
              "        const buttonEl =\n",
              "          document.querySelector('#df-fe3d0e90-2050-4e8f-af40-d03df2542bdd button.colab-df-convert');\n",
              "        buttonEl.style.display =\n",
              "          google.colab.kernel.accessAllowed ? 'block' : 'none';\n",
              "\n",
              "        async function convertToInteractive(key) {\n",
              "          const element = document.querySelector('#df-fe3d0e90-2050-4e8f-af40-d03df2542bdd');\n",
              "          const dataTable =\n",
              "            await google.colab.kernel.invokeFunction('convertToInteractive',\n",
              "                                                     [key], {});\n",
              "          if (!dataTable) return;\n",
              "\n",
              "          const docLinkHtml = 'Like what you see? Visit the ' +\n",
              "            '<a target=\"_blank\" href=https://colab.research.google.com/notebooks/data_table.ipynb>data table notebook</a>'\n",
              "            + ' to learn more about interactive tables.';\n",
              "          element.innerHTML = '';\n",
              "          dataTable['output_type'] = 'display_data';\n",
              "          await google.colab.output.renderOutput(dataTable, element);\n",
              "          const docLink = document.createElement('div');\n",
              "          docLink.innerHTML = docLinkHtml;\n",
              "          element.appendChild(docLink);\n",
              "        }\n",
              "      </script>\n",
              "    </div>\n",
              "  </div>\n",
              "  "
            ]
          },
          "metadata": {},
          "execution_count": 4
        }
      ]
    },
    {
      "cell_type": "code",
      "source": [
        "labels = df.iloc[:,-1].values\n",
        "box = list(df.iloc[:,1:-1].values.astype(\"float64\"))"
      ],
      "metadata": {
        "id": "B-L0CRPnJ37K"
      },
      "execution_count": 5,
      "outputs": []
    },
    {
      "cell_type": "code",
      "source": [
        "box"
      ],
      "metadata": {
        "colab": {
          "base_uri": "https://localhost:8080/"
        },
        "id": "jP-CvpkhAaqO",
        "outputId": "d2255d8e-c10a-40d0-894a-0db6318c6c21"
      },
      "execution_count": 6,
      "outputs": [
        {
          "output_type": "execute_result",
          "data": {
            "text/plain": [
              "[array([ 94., 113., 263., 390.]),\n",
              " array([110.,  11., 543., 571.]),\n",
              " array([106.,   0., 551., 575.]),\n",
              " array([ 23.,  55., 579., 545.]),\n",
              " array([186.,   3., 471., 636.]),\n",
              " array([235.,  57., 640., 598.]),\n",
              " array([ 10.,   3., 580., 630.]),\n",
              " array([ 83.,  29., 414., 482.]),\n",
              " array([151.,   3., 536., 478.])]"
            ]
          },
          "metadata": {},
          "execution_count": 6
        }
      ]
    },
    {
      "cell_type": "code",
      "source": [
        "le = LabelEncoder()\n",
        "labels = le.fit_transform(labels)"
      ],
      "metadata": {
        "id": "CXYV36QqMl49"
      },
      "execution_count": 7,
      "outputs": []
    },
    {
      "cell_type": "code",
      "source": [
        "labels"
      ],
      "metadata": {
        "colab": {
          "base_uri": "https://localhost:8080/"
        },
        "id": "XzExuPAVDh9L",
        "outputId": "8b64aa4a-4276-4b42-90df-fdce7fac1f3e"
      },
      "execution_count": 8,
      "outputs": [
        {
          "output_type": "execute_result",
          "data": {
            "text/plain": [
              "array([1, 0, 0, 1, 0, 0, 1, 1, 0])"
            ]
          },
          "metadata": {},
          "execution_count": 8
        }
      ]
    },
    {
      "cell_type": "code",
      "source": [
        "box"
      ],
      "metadata": {
        "colab": {
          "base_uri": "https://localhost:8080/"
        },
        "id": "J8QxVYfUNmiz",
        "outputId": "a7dee38c-bee5-4d98-dd00-7f99b0454ea5"
      },
      "execution_count": 9,
      "outputs": [
        {
          "output_type": "execute_result",
          "data": {
            "text/plain": [
              "[array([ 94., 113., 263., 390.]),\n",
              " array([110.,  11., 543., 571.]),\n",
              " array([106.,   0., 551., 575.]),\n",
              " array([ 23.,  55., 579., 545.]),\n",
              " array([186.,   3., 471., 636.]),\n",
              " array([235.,  57., 640., 598.]),\n",
              " array([ 10.,   3., 580., 630.]),\n",
              " array([ 83.,  29., 414., 482.]),\n",
              " array([151.,   3., 536., 478.])]"
            ]
          },
          "metadata": {},
          "execution_count": 9
        }
      ]
    },
    {
      "cell_type": "code",
      "source": [
        "for i in range(len(box)):\n",
        "  box[i] = box[i].reshape(1,box[i].shape[0])\n",
        "  box[i] /= 256"
      ],
      "metadata": {
        "id": "0k1qql-4KmgO"
      },
      "execution_count": 10,
      "outputs": []
    },
    {
      "cell_type": "code",
      "source": [
        "num_class = 2\n",
        "category_index = {1: {\"id\":1,\"name\":\"cat\"},2: {\"id\":2,\"name\":\"dog\"}}\n",
        "label_id_offset = 1\n",
        "train_image = []\n",
        "classes  =[]\n",
        "boxes = []\n",
        "for (train_image_np,gt_box_np,label) in zip(image,box,labels):\n",
        "  train_image.append(tf.expand_dims(tf.convert_to_tensor(train_image_np,dtype = tf.float32),axis = 0))\n",
        "  boxes.append(tf.convert_to_tensor(gt_box_np,dtype = tf.float32))\n",
        "  classes.append(tf.reshape(tf.one_hot(tf.convert_to_tensor(label,dtype=tf.int32),num_class),[1,num_class]))"
      ],
      "metadata": {
        "id": "Z0xJJXBwQrub"
      },
      "execution_count": 11,
      "outputs": []
    },
    {
      "cell_type": "code",
      "source": [
        "classes"
      ],
      "metadata": {
        "colab": {
          "base_uri": "https://localhost:8080/"
        },
        "id": "LdsWsklwTOnl",
        "outputId": "3f33ac62-d982-43c5-a90b-9db5c0226d60"
      },
      "execution_count": 12,
      "outputs": [
        {
          "output_type": "execute_result",
          "data": {
            "text/plain": [
              "[<tf.Tensor: shape=(1, 2), dtype=float32, numpy=array([[0., 1.]], dtype=float32)>,\n",
              " <tf.Tensor: shape=(1, 2), dtype=float32, numpy=array([[1., 0.]], dtype=float32)>,\n",
              " <tf.Tensor: shape=(1, 2), dtype=float32, numpy=array([[1., 0.]], dtype=float32)>,\n",
              " <tf.Tensor: shape=(1, 2), dtype=float32, numpy=array([[0., 1.]], dtype=float32)>,\n",
              " <tf.Tensor: shape=(1, 2), dtype=float32, numpy=array([[1., 0.]], dtype=float32)>,\n",
              " <tf.Tensor: shape=(1, 2), dtype=float32, numpy=array([[1., 0.]], dtype=float32)>,\n",
              " <tf.Tensor: shape=(1, 2), dtype=float32, numpy=array([[0., 1.]], dtype=float32)>,\n",
              " <tf.Tensor: shape=(1, 2), dtype=float32, numpy=array([[0., 1.]], dtype=float32)>,\n",
              " <tf.Tensor: shape=(1, 2), dtype=float32, numpy=array([[1., 0.]], dtype=float32)>]"
            ]
          },
          "metadata": {},
          "execution_count": 12
        }
      ]
    },
    {
      "cell_type": "code",
      "source": [
        "boxes"
      ],
      "metadata": {
        "colab": {
          "base_uri": "https://localhost:8080/"
        },
        "id": "xl40V8dsYEPQ",
        "outputId": "2ed92e85-2592-444b-e90b-551a3e6baff9"
      },
      "execution_count": 13,
      "outputs": [
        {
          "output_type": "execute_result",
          "data": {
            "text/plain": [
              "[<tf.Tensor: shape=(1, 4), dtype=float32, numpy=array([[0.3671875 , 0.44140625, 1.0273438 , 1.5234375 ]], dtype=float32)>,\n",
              " <tf.Tensor: shape=(1, 4), dtype=float32, numpy=array([[0.4296875 , 0.04296875, 2.1210938 , 2.2304688 ]], dtype=float32)>,\n",
              " <tf.Tensor: shape=(1, 4), dtype=float32, numpy=array([[0.4140625, 0.       , 2.1523438, 2.2460938]], dtype=float32)>,\n",
              " <tf.Tensor: shape=(1, 4), dtype=float32, numpy=array([[0.08984375, 0.21484375, 2.2617188 , 2.1289062 ]], dtype=float32)>,\n",
              " <tf.Tensor: shape=(1, 4), dtype=float32, numpy=array([[0.7265625 , 0.01171875, 1.8398438 , 2.484375  ]], dtype=float32)>,\n",
              " <tf.Tensor: shape=(1, 4), dtype=float32, numpy=array([[0.91796875, 0.22265625, 2.5       , 2.3359375 ]], dtype=float32)>,\n",
              " <tf.Tensor: shape=(1, 4), dtype=float32, numpy=array([[0.0390625 , 0.01171875, 2.265625  , 2.4609375 ]], dtype=float32)>,\n",
              " <tf.Tensor: shape=(1, 4), dtype=float32, numpy=array([[0.32421875, 0.11328125, 1.6171875 , 1.8828125 ]], dtype=float32)>,\n",
              " <tf.Tensor: shape=(1, 4), dtype=float32, numpy=array([[0.58984375, 0.01171875, 2.09375   , 1.8671875 ]], dtype=float32)>]"
            ]
          },
          "metadata": {},
          "execution_count": 13
        }
      ]
    },
    {
      "cell_type": "code",
      "source": [
        "def create_mini_batch(train_image,box,classes,batch_size):\n",
        "  mini_batches = []\n",
        "  all_keys = list(range(len(train_image)))\n",
        "  np.random.shuffle(all_keys)\n",
        "  num_batches = (len(train_image)) // batch_size\n",
        "  for i in range(num_batches + 1):\n",
        "    example_keys = all_keys[i*batch_size : (i+1)*batch_size]\n",
        "    gt_box = [box[key] for key in example_keys]\n",
        "    gt_classes = [classes[key] for key in example_keys]\n",
        "    image_tensors = [train_image[key] for key in example_keys]\n",
        "    x = image_tensors\n",
        "    y = (gt_box,gt_classes)\n",
        "    mini_batches.append((x,y))\n",
        "  if(len(train_image) % batch_size != 0):\n",
        "    example_keys = all_keys[i*batch_size:]\n",
        "    gt_box = [box[key] for key in example_keys]\n",
        "    gt_classes = [classes[key] for key in example_keys]\n",
        "    image_tensors = [train_image[key] for key in example_keys]\n",
        "    x = image_tensors\n",
        "    y = (gt_box,gt_classes)\n",
        "    mini_batches.append((x,y))\n",
        "  return mini_batches"
      ],
      "metadata": {
        "id": "SRxjWKhaLiJy"
      },
      "execution_count": 14,
      "outputs": []
    },
    {
      "cell_type": "code",
      "source": [
        "batch_size = 8\n",
        "mini_batches = create_mini_batch(train_image,boxes,classes,batch_size)"
      ],
      "metadata": {
        "id": "V30wcT15Lnj9"
      },
      "execution_count": 15,
      "outputs": []
    },
    {
      "cell_type": "code",
      "source": [
        "!wget http://download.tensorflow.org/models/object_detection/tf2/20200711/ssd_resnet50_v1_fpn_640x640_coco17_tpu-8.tar.gz\n",
        "!tar -xf ssd_resnet50_v1_fpn_640x640_coco17_tpu-8.tar.gz\n",
        "!mv ssd_resnet50_v1_fpn_640x640_coco17_tpu-8/checkpoint models/research/object_detection/test_data/"
      ],
      "metadata": {
        "colab": {
          "base_uri": "https://localhost:8080/"
        },
        "id": "rg3F6fwCLqjF",
        "outputId": "b421488b-51a5-4d3b-a56d-4f6887d695b0"
      },
      "execution_count": 16,
      "outputs": [
        {
          "output_type": "stream",
          "name": "stdout",
          "text": [
            "--2023-05-18 18:55:45--  http://download.tensorflow.org/models/object_detection/tf2/20200711/ssd_resnet50_v1_fpn_640x640_coco17_tpu-8.tar.gz\n",
            "Resolving download.tensorflow.org (download.tensorflow.org)... 108.177.119.128, 2a00:1450:4013:c04::80\n",
            "Connecting to download.tensorflow.org (download.tensorflow.org)|108.177.119.128|:80... connected.\n",
            "HTTP request sent, awaiting response... 200 OK\n",
            "Length: 244817203 (233M) [application/x-tar]\n",
            "Saving to: ‘ssd_resnet50_v1_fpn_640x640_coco17_tpu-8.tar.gz.2’\n",
            "\n",
            "ssd_resnet50_v1_fpn 100%[===================>] 233.48M   240MB/s    in 1.0s    \n",
            "\n",
            "2023-05-18 18:55:46 (240 MB/s) - ‘ssd_resnet50_v1_fpn_640x640_coco17_tpu-8.tar.gz.2’ saved [244817203/244817203]\n",
            "\n",
            "mv: cannot move 'ssd_resnet50_v1_fpn_640x640_coco17_tpu-8/checkpoint' to 'models/research/object_detection/test_data/checkpoint': Directory not empty\n"
          ]
        }
      ]
    },
    {
      "cell_type": "code",
      "source": [
        "tf.keras.backend.clear_session()\n",
        "\n",
        "pipeline_config = \"/content/models/research/object_detection/configs/tf2/ssd_resnet50_v1_fpn_640x640_coco17_tpu-8.config\"\n",
        "checkpoint_path = \"/content/models/research/object_detection/test_data/checkpoint/ckpt-0\"\n",
        "\n",
        "configs = config_util.get_configs_from_pipeline_file(pipeline_config)\n",
        "model_config = configs[\"model\"]\n",
        "train_config = configs[\"train_config\"]\n",
        "model_config.ssd.num_classes = 2\n",
        "model_config.ssd.freeze_batchnorm = True\n",
        "train_config.batch_size = 8\n",
        "detection_model = model_builder.build(model_config = model_config,is_training = True) \n",
        "\n",
        "fake_box_predictor = tf.compat.v2.train.Checkpoint(_base_tower_layers_for_heads = detection_model._box_predictor._base_tower_layers_for_heads,\n",
        "                                                   _box_prediction_head = detection_model._box_predictor._box_prediction_head)\n",
        "fake_model = tf.compat.v2.train.Checkpoint(_feature_extractor = detection_model._feature_extractor,\n",
        "                                           box_predictor = fake_box_predictor)\n",
        "ckpt = tf.compat.v2.train.Checkpoint(model = fake_model)\n",
        "ckpt.restore(checkpoint_path).expect_partial()\n",
        "\n",
        "images,shapes = detection_model.preprocess(tf.zeros([1,640,640,3]))\n",
        "prediction_dict = detection_model.predict(images,shapes)\n",
        "_ = detection_model.postprocess(prediction_dict,shapes)\n",
        "print(\"weights restored!\")"
      ],
      "metadata": {
        "colab": {
          "base_uri": "https://localhost:8080/"
        },
        "id": "6JkWh32ALvDq",
        "outputId": "7b76c8c9-2730-4a22-a89b-73b62ceab6d8"
      },
      "execution_count": 17,
      "outputs": [
        {
          "output_type": "stream",
          "name": "stdout",
          "text": [
            "weights restored!\n"
          ]
        }
      ]
    },
    {
      "cell_type": "code",
      "source": [
        "prefixes_to_train = [\"WeightSharedConvolutionalBoxPredictor/WeightSharedConvolutionalBoxHead\",\n",
        "                     \"WeightSharedConvolutionalBoxPredictor/WeightSharedConvolutionalClassHead\"]\n",
        "\n",
        "to_fine_tune = []\n",
        "for variable in detection_model.trainable_variables:\n",
        "  if any([variable.name.startswith(prefix) for prefix in prefixes_to_train]):\n",
        "    to_fine_tune.append(variable)\n",
        "\n",
        "Loss = []\n",
        "\n",
        "def model_train_step(model,optimizer,vars_to_fine_tune):\n",
        "  def train_step(image_tensors,gt_box_list,gt_class_list):\n",
        "    batch_size = 8\n",
        "    shapes = tf.constant(batch_size * [[640,640,3]],dtype = tf.float32)\n",
        "    model.provide_groundtruth(groundtruth_boxes_list=gt_box_list,groundtruth_classes_list = gt_class_list)\n",
        "    with tf.GradientTape() as tape:  \n",
        "      preprocessed_images = tf.concat([model.preprocess(image_tensor)[0] for image_tensor in image_tensors],axis = 0)\n",
        "      predict_dict = model.predict(preprocessed_images,shapes)\n",
        "      losses_dict = model.loss(predict_dict,shapes)\n",
        "      total_loss = losses_dict[\"Loss/localization_loss\"] + losses_dict[\"Loss/classification_loss\"]\n",
        "    gradients = tape.gradient(total_loss,vars_to_fine_tune)\n",
        "    optimizer.apply_gradients(zip(gradients,vars_to_fine_tune))\n",
        "    return total_loss\n",
        "  return train_step\n",
        "\n",
        "optimizer = tf.keras.optimizers.Adam(learning_rate = 0.01)\n",
        "train_step = model_train_step(detection_model,optimizer,to_fine_tune)\n",
        "\n",
        "for epochs in range(50):\n",
        "  total_loss = 0\n",
        "  for batches in mini_batches:\n",
        "    x,y = batches\n",
        "    y1,y2 = y\n",
        "    loss = train_step(x,y1,y2)\n",
        "    total_loss = loss + total_loss\n",
        "  Loss.append(total_loss.numpy())\n",
        "  print('epoch ' + str(epochs+1) + ': loss=' +  str(total_loss.numpy()))"
      ],
      "metadata": {
        "colab": {
          "base_uri": "https://localhost:8080/"
        },
        "id": "97f83TreLzPQ",
        "outputId": "ebf02d59-2abc-4461-a9e3-566a77b9af29"
      },
      "execution_count": 18,
      "outputs": [
        {
          "output_type": "stream",
          "name": "stdout",
          "text": [
            "epoch 1: loss=8.935458\n",
            "epoch 2: loss=8.525946\n",
            "epoch 3: loss=8.209112\n",
            "epoch 4: loss=7.9302497\n",
            "epoch 5: loss=7.6710725\n",
            "epoch 6: loss=7.4236684\n",
            "epoch 7: loss=7.1844454\n",
            "epoch 8: loss=6.951269\n",
            "epoch 9: loss=6.722474\n",
            "epoch 10: loss=6.4965587\n",
            "epoch 11: loss=6.2725515\n",
            "epoch 12: loss=6.0499296\n",
            "epoch 13: loss=5.82839\n",
            "epoch 14: loss=5.6080217\n",
            "epoch 15: loss=5.389008\n",
            "epoch 16: loss=5.17167\n",
            "epoch 17: loss=4.9562855\n",
            "epoch 18: loss=4.7429667\n",
            "epoch 19: loss=4.531784\n",
            "epoch 20: loss=4.3229914\n",
            "epoch 21: loss=4.1206036\n",
            "epoch 22: loss=3.9274457\n",
            "epoch 23: loss=3.743728\n",
            "epoch 24: loss=3.5691812\n",
            "epoch 25: loss=3.4033074\n",
            "epoch 26: loss=3.245537\n",
            "epoch 27: loss=3.095199\n",
            "epoch 28: loss=2.9516206\n",
            "epoch 29: loss=2.8141599\n",
            "epoch 30: loss=2.6822891\n",
            "epoch 31: loss=2.555573\n",
            "epoch 32: loss=2.4336276\n",
            "epoch 33: loss=2.3160987\n",
            "epoch 34: loss=2.202651\n",
            "epoch 35: loss=2.0929704\n",
            "epoch 36: loss=1.9867615\n",
            "epoch 37: loss=1.8837491\n",
            "epoch 38: loss=1.7837943\n",
            "epoch 39: loss=1.6868361\n",
            "epoch 40: loss=1.5927079\n",
            "epoch 41: loss=1.5013998\n",
            "epoch 42: loss=1.412881\n",
            "epoch 43: loss=1.3296802\n",
            "epoch 44: loss=1.2551237\n",
            "epoch 45: loss=1.1892292\n",
            "epoch 46: loss=1.1314265\n",
            "epoch 47: loss=1.0808415\n",
            "epoch 48: loss=1.0365251\n",
            "epoch 49: loss=0.99758494\n",
            "epoch 50: loss=0.96311337\n"
          ]
        }
      ]
    },
    {
      "cell_type": "code",
      "source": [
        "epoch = list(np.arange(1,51,1))"
      ],
      "metadata": {
        "id": "2wdvBTBOI3zn"
      },
      "execution_count": 19,
      "outputs": []
    },
    {
      "cell_type": "code",
      "source": [
        "epoch"
      ],
      "metadata": {
        "id": "dxqPCskxQZmX"
      },
      "execution_count": null,
      "outputs": []
    },
    {
      "cell_type": "code",
      "source": [
        "import matplotlib.pyplot as plt\n",
        "%matplotlib inline"
      ],
      "metadata": {
        "id": "9z6qSKIqQ4Tk"
      },
      "execution_count": 26,
      "outputs": []
    },
    {
      "cell_type": "code",
      "source": [
        "plt.plot(np.array(epoch),np.array(Loss))\n",
        "plt.xlabel(\"epochs\")\n",
        "plt.ylabel(\"loss\")\n",
        "plt.show()"
      ],
      "metadata": {
        "colab": {
          "base_uri": "https://localhost:8080/",
          "height": 449
        },
        "id": "FI07EiFTLuVV",
        "outputId": "17c0a176-9845-4d87-d3c7-24ef1f19f68b"
      },
      "execution_count": 30,
      "outputs": [
        {
          "output_type": "display_data",
          "data": {
            "text/plain": [
              "<Figure size 640x480 with 1 Axes>"
            ],
            "image/png": "[encoded data removed]"
          },
          "metadata": {}
        }
      ]
    },
    {
      "cell_type": "code",
      "source": [],
      "metadata": {
        "id": "2E-ZNSBEQpGy"
      },
      "execution_count": null,
      "outputs": []
    }
  ]
}